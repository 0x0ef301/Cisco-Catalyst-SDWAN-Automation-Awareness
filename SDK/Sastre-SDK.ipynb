{
 "cells": [
  {
   "cell_type": "markdown",
   "id": "1972dd44-1ba2-4d35-826a-28a35f28ffdd",
   "metadata": {
    "jp-MarkdownHeadingCollapsed": true
   },
   "source": [
    "# 1. Rest Object"
   ]
  },
  {
   "cell_type": "code",
   "execution_count": null,
   "id": "71cc4929-48a3-41c7-99da-e1aa9a11b6bf",
   "metadata": {},
   "outputs": [],
   "source": [
    "base_url, username, password = ('https://10.10.20.90', 'admin', 'C1sco12345')"
   ]
  },
  {
   "cell_type": "code",
   "execution_count": null,
   "id": "5424c0eb",
   "metadata": {},
   "outputs": [],
   "source": [
    "from cisco_sdwan.base.rest_api import Rest\n",
    "\n",
    "with Rest(base_url, username, password) as api:\n",
    "    print(api.server_version)"
   ]
  },
  {
   "cell_type": "code",
   "execution_count": null,
   "id": "724b84f7",
   "metadata": {
    "scrolled": true
   },
   "outputs": [],
   "source": [
    "import json\n",
    "from cisco_sdwan.base.rest_api import Rest\n",
    "\n",
    "def print_json(j_obj):\n",
    "    print(json.dumps(j_obj, indent=2))\n",
    "\n",
    "with Rest(base_url, username, password) as api:\n",
    "    reply = api.get('device/control/connections', deviceId=\"10.10.1.13\")\n",
    "    print_json(reply)"
   ]
  },
  {
   "cell_type": "markdown",
   "id": "a989be3f-1fd5-452f-a2bf-c0babedd9231",
   "metadata": {
    "jp-MarkdownHeadingCollapsed": true
   },
   "source": [
    "# 2. vManage Models"
   ]
  },
  {
   "cell_type": "code",
   "execution_count": null,
   "id": "95e537de",
   "metadata": {
    "scrolled": true
   },
   "outputs": [],
   "source": [
    "from cisco_sdwan.base.rest_api import Rest\n",
    "from cisco_sdwan.base.models_vmanage import DeviceControlConnections\n",
    "\n",
    "with Rest(base_url, username, password) as api:\n",
    "    control_connections = DeviceControlConnections.get(api, deviceId=\"10.10.1.13\")\n",
    "    print(control_connections)"
   ]
  },
  {
   "cell_type": "code",
   "execution_count": null,
   "id": "a7fd86cf",
   "metadata": {},
   "outputs": [],
   "source": [
    "from cisco_sdwan.base.rest_api import Rest\n",
    "from cisco_sdwan.base.models_vmanage import DeviceControlConnections\n",
    "\n",
    "with Rest(base_url, username, password) as api:\n",
    "    control_connections = DeviceControlConnections.get(api, deviceId=\"10.10.1.13\")"
   ]
  },
  {
   "cell_type": "code",
   "execution_count": null,
   "id": "30157282-365d-48ab-adaf-31350c7c47ed",
   "metadata": {},
   "outputs": [],
   "source": [
    "control_connections.field_names"
   ]
  },
  {
   "cell_type": "code",
   "execution_count": null,
   "id": "95b0b43e",
   "metadata": {},
   "outputs": [],
   "source": [
    "control_connections.field_info('site_id', 'uptime_date')"
   ]
  },
  {
   "cell_type": "code",
   "execution_count": null,
   "id": "2b4c71d8-0e34-4c1d-bf65-803d48f78517",
   "metadata": {},
   "outputs": [],
   "source": [
    "help(DeviceControlConnections)"
   ]
  },
  {
   "cell_type": "markdown",
   "id": "4e816ef7-4348-4307-9bee-5462ea781512",
   "metadata": {},
   "source": [
    "## Adding an extra field to what 'show realtime control connections' would provide"
   ]
  },
  {
   "cell_type": "code",
   "execution_count": null,
   "id": "85b7ce08",
   "metadata": {},
   "outputs": [],
   "source": [
    "from cisco_sdwan.base.rest_api import Rest\n",
    "from cisco_sdwan.base.models_vmanage import DeviceControlConnections\n",
    "\n",
    "with Rest(base_url, username, password) as api:\n",
    "    control_connections = DeviceControlConnections.get(api, deviceId=\"10.10.1.13\")\n",
    "\n",
    "    header = control_connections.field_info('system_ip', 'local_color', 'remote_color', 'state', 'uptime_date')\n",
    "    print(f\"{header[0]:15} {header[1]:16} {header[2]:16} {header[3]:5} {header[4]}\")\n",
    "    for row in control_connections.field_value_iter('system_ip', 'local_color', 'remote_color', 'state', 'uptime_date'):\n",
    "        print(f\"{row.system_ip:15} {row.local_color:16} {row.remote_color:16} {row.state:5} {row.uptime_date}\")"
   ]
  },
  {
   "cell_type": "markdown",
   "id": "46c8bc13-fbce-461f-999f-524f4bb503af",
   "metadata": {},
   "source": [
    "## Using conversion functions"
   ]
  },
  {
   "cell_type": "code",
   "execution_count": null,
   "id": "58635659",
   "metadata": {},
   "outputs": [],
   "source": [
    "from datetime import datetime, timezone\n",
    "from cisco_sdwan.base.rest_api import Rest\n",
    "from cisco_sdwan.base.models_vmanage import DeviceControlConnections\n",
    "\n",
    "# Convert timestamp into date/time string: 2023-06-27 01:46:00 UTC\n",
    "def datetime_format(timestamp):\n",
    "    if timestamp is None:\n",
    "        return \"\"\n",
    "\n",
    "    dt = datetime.fromtimestamp(float(timestamp) / 1000, tz=timezone.utc)\n",
    "    return f\"{dt:%Y-%m-%d %H:%M:%S %Z}\"\n",
    "\n",
    "with Rest(base_url, username, password) as api:\n",
    "    control_connections = DeviceControlConnections.get(api, deviceId=\"10.10.1.13\")\n",
    "\n",
    "    header = control_connections.field_info('system_ip', 'local_color', 'remote_color', 'state', 'uptime_date')\n",
    "    print(f\"{header[0]:15} {header[1]:16} {header[2]:16} {header[3]:5} {header[4]}\")\n",
    "\n",
    "    for row in control_connections.field_value_iter('system_ip', 'local_color', 'remote_color', 'state', 'uptime_date', uptime_date=datetime_format):\n",
    "        print(f\"{row.system_ip:15} {row.local_color:16} {row.remote_color:16} {row.state:5} {row.uptime_date}\")"
   ]
  },
  {
   "cell_type": "markdown",
   "id": "740829a7-b64e-404d-9573-51b794eda89f",
   "metadata": {
    "jp-MarkdownHeadingCollapsed": true
   },
   "source": [
    "# 3. Sastre Tasks"
   ]
  },
  {
   "cell_type": "code",
   "execution_count": null,
   "id": "b4e2176b-fd1c-42e9-91f3-865641af3e31",
   "metadata": {},
   "outputs": [],
   "source": [
    "from cisco_sdwan.tasks import implementation\n",
    "\n",
    "dir(implementation)"
   ]
  },
  {
   "cell_type": "markdown",
   "id": "96cfd584-e7bc-463a-bd48-9940f65ec699",
   "metadata": {},
   "source": [
    "## Running 'sdwan show realtime control connections'"
   ]
  },
  {
   "cell_type": "code",
   "execution_count": null,
   "id": "dab8732a",
   "metadata": {},
   "outputs": [],
   "source": [
    "import logging\n",
    "from cisco_sdwan.base.rest_api import Rest\n",
    "from cisco_sdwan.tasks.implementation import TaskShow, ShowRealtimeArgs\n",
    "\n",
    "# Setup logging to visualize progress\n",
    "logging.basicConfig(level=logging.INFO, format=\"[%(levelname)s] %(message)s\")\n",
    "\n",
    "# Equivalent to 'sdwan show realtime control connections --system-ip 10.10.1.13'\n",
    "task_args = ShowRealtimeArgs(\n",
    "    cmd =  [ 'control', 'connections' ],\n",
    "    system_ip = \"10.10.1.13\"\n",
    ")\n",
    "\n",
    "with Rest(base_url, username, password) as api:\n",
    "    task = TaskShow()\n",
    "    task_output = task.runner(task_args, api)\n",
    "\n",
    "    if task_output:\n",
    "        print('\\n\\n'.join(str(entry) for entry in task_output))\n",
    "\n",
    "    task.log_info(f'Task completed {task.outcome(\"successfully\", \"with caveats: {tally}\")}')"
   ]
  },
  {
   "cell_type": "markdown",
   "id": "a062f04b-85b6-42b1-940f-42ec908628b0",
   "metadata": {},
   "source": [
    "## Running 'sdwan backup all'"
   ]
  },
  {
   "cell_type": "code",
   "execution_count": null,
   "id": "e0965f4a-e30a-4976-a1e6-1b8d61c9d410",
   "metadata": {},
   "outputs": [],
   "source": [
    "import logging\n",
    "from cisco_sdwan.base.rest_api import Rest\n",
    "from cisco_sdwan.tasks.implementation import TaskBackup, BackupArgs\n",
    "\n",
    "# Setup logging to visualize progress\n",
    "logging.basicConfig(level=logging.INFO, format=\"[%(levelname)s] %(message)s\")\n",
    "\n",
    "# Equivalent to 'sdwan backup all --no-rollover --save-running'\n",
    "task_args = BackupArgs(\n",
    "    save_running = True,\n",
    "    no_rollover = True,\n",
    "    workdir = 'backup_test',\n",
    "    tags = ['all']\n",
    ")\n",
    "\n",
    "with Rest(base_url, username, password) as api:\n",
    "    task = TaskBackup()\n",
    "    task_output = task.runner(task_args, api)\n",
    "\n",
    "    if task_output:\n",
    "        print('\\n\\n'.join(str(entry) for entry in task_output))\n",
    "\n",
    "    task.log_info(f'Task completed {task.outcome(\"successfully\", \"with caveats: {tally}\")}')"
   ]
  },
  {
   "cell_type": "markdown",
   "id": "2a8d9c7d-4bba-4186-b387-aa3e37f526bd",
   "metadata": {},
   "source": [
    "## Running 'sdwan restore all'"
   ]
  },
  {
   "cell_type": "code",
   "execution_count": null,
   "id": "656cb3e8",
   "metadata": {},
   "outputs": [],
   "source": [
    "import logging\n",
    "from cisco_sdwan.base.rest_api import Rest\n",
    "from cisco_sdwan.tasks.implementation import TaskRestore, RestoreArgs\n",
    "\n",
    "# Setup logging to visualize progress\n",
    "logging.basicConfig(level=logging.INFO, format=\"[%(levelname)s] %(message)s\")\n",
    "\n",
    "# Equivalent to 'sdwan restore all --workdir backup_test'\n",
    "task_args = RestoreArgs(\n",
    "    workdir = 'backup_test',\n",
    "    tag = 'all'\n",
    ")\n",
    "\n",
    "with Rest(base_url, username, password) as api:\n",
    "    task = TaskRestore()\n",
    "    task_output = task.runner(task_args, api)\n",
    "\n",
    "    if task_output:\n",
    "        print('\\n\\n'.join(str(entry) for entry in task_output))\n",
    "\n",
    "    task.log_info(f'Task completed {task.outcome(\"successfully\", \"with caveats: {tally}\")}')"
   ]
  },
  {
   "cell_type": "markdown",
   "id": "40b87dff-91b8-40f3-809c-8e542bce0fc6",
   "metadata": {
    "jp-MarkdownHeadingCollapsed": true
   },
   "source": [
    "# 4. Implementing functionality not available in Sastre"
   ]
  },
  {
   "cell_type": "markdown",
   "id": "aec10179-d2dc-4fdd-ad22-0213d62b1392",
   "metadata": {},
   "source": [
    "**Problem Statement:**\n",
    "\n",
    "Display list of feature templates associated with a particular device template"
   ]
  },
  {
   "cell_type": "code",
   "execution_count": null,
   "id": "f4328e44-158a-48e4-856a-166676ccedc6",
   "metadata": {},
   "outputs": [],
   "source": [
    "from cisco_sdwan.base.rest_api import Rest\n",
    "from cisco_sdwan.base.models_vmanage import DeviceTemplateIndex, FeatureTemplateIndex, DeviceTemplate, RestAPIException\n",
    "\n",
    "device_template_name = \"Site_3_vEdge_Template\"\n",
    "\n",
    "try:\n",
    "    with Rest(base_url, username, password) as api:\n",
    "        device_template_map = {dt_name: dt_id for dt_id, dt_name in DeviceTemplateIndex.get_raise(api)}\n",
    "    \n",
    "        device_template_id = device_template_map.get(device_template_name)\n",
    "        if device_template_id is None:\n",
    "            raise ValueError(f\"Device template '{device_template_name}' was not found\")\n",
    "\n",
    "        device_template = DeviceTemplate.get_raise(api, device_template_id)\n",
    "        feature_template_map = {ft_id: ft_name for ft_id, ft_name in FeatureTemplateIndex.get_raise(api)}\n",
    "\n",
    "    print(f\"Feature templates used by device template '{device_template_name}':\")\n",
    "    for feature_template_id in device_template.feature_templates:\n",
    "        print(f\"- {feature_template_map.get(feature_template_id, 'not found')}\")\n",
    "\n",
    "except ValueError as ex:\n",
    "    print(ex)\n",
    "except RestAPIException as ex:\n",
    "    print(f\"Problem retrieving vManage data: {ex}\")"
   ]
  },
  {
   "cell_type": "code",
   "execution_count": null,
   "id": "d8030cbe-53e4-41c6-b898-696e7b09c9ac",
   "metadata": {},
   "outputs": [],
   "source": []
  }
 ],
 "metadata": {
  "kernelspec": {
   "display_name": "Python 3 (ipykernel)",
   "language": "python",
   "name": "python3"
  },
  "language_info": {
   "codemirror_mode": {
    "name": "ipython",
    "version": 3
   },
   "file_extension": ".py",
   "mimetype": "text/x-python",
   "name": "python",
   "nbconvert_exporter": "python",
   "pygments_lexer": "ipython3",
   "version": "3.11.2"
  }
 },
 "nbformat": 4,
 "nbformat_minor": 5
}
