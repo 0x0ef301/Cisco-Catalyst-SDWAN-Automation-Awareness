{
 "cells": [
  {
   "cell_type": "code",
   "execution_count": null,
   "id": "cf9e3e8b",
   "metadata": {},
   "outputs": [],
   "source": [
    "\"\"\"\n",
    "Setting base URL and credentials\n",
    "\"\"\"\n",
    "\n",
    "creds = {\n",
    "    \"base_url\": 'https://10.10.20.90', \"username\": 'admin', \"password\": 'C1sco12345'\n",
    "}\n",
    "\n",
    "\"\"\"\n",
    "Setting device ID, aka, System IP\n",
    "\"\"\"\n",
    "\n",
    "deviceId = {\"deviceId\": '10.10.1.11'}"
   ]
  },
  {
   "cell_type": "code",
   "execution_count": null,
   "id": "5424c0eb",
   "metadata": {},
   "outputs": [],
   "source": [
    "\"\"\"Importing REST API library from ~/cisco_sdwan/base/rest_api.py\"\"\"\n",
    "\n",
    "from cisco_sdwan.base.rest_api import Rest\n",
    "\n",
    "\n",
    "\"\"\"\n",
    "Using all (**) dictionary items in creds\n",
    "Return the vManage SW version and print to terminal\n",
    "\"\"\"\n",
    "\n",
    "with Rest(**creds) as api:\n",
    "    print(api.server_version)"
   ]
  },
  {
   "cell_type": "code",
   "execution_count": null,
   "id": "724b84f7",
   "metadata": {},
   "outputs": [],
   "source": [
    "\"\"\"\n",
    "    Importing JSON python library\n",
    "\"\"\"\n",
    "import json\n",
    "\n",
    "\n",
    "\"\"\"\n",
    "    Importing REST API library from ~/cisco_sdwan/base/rest_api.py\n",
    "\"\"\"\n",
    "from cisco_sdwan.base.rest_api import Rest\n",
    "\n",
    "\n",
    "\"\"\"\n",
    "    This function takes a JSON object as input and prints it in a\n",
    "    pretty, indented format.\n",
    "\n",
    "    Args:\n",
    "        j_obj (dict): The JSON object to be printed.\n",
    "\n",
    "    Returns:\n",
    "        None\n",
    "\"\"\"\n",
    "def print_json(j_obj):\n",
    "    print(json.dumps(j_obj, indent=2))\n",
    "\n",
    "\"\"\"\n",
    "    Establish a connection to the REST API using the provided credentials\n",
    "\"\"\"\n",
    "with Rest(**creds) as api:\n",
    "\n",
    "\n",
    "# Send a GET request to the device/control/connections endpoint with the specified device ID\n",
    "    reply = api.get('device/control/connections', **deviceId)\n",
    "\n",
    "# Call the print_json function to print the JSON response in a pretty, indented format\n",
    "    print_json(reply)"
   ]
  },
  {
   "cell_type": "code",
   "execution_count": null,
   "id": "95e537de",
   "metadata": {},
   "outputs": [],
   "source": [
    "from cisco_sdwan.base.rest_api import Rest\n",
    "from cisco_sdwan.base.models_vmanage import DeviceControlConnections\n",
    "\n",
    "with Rest(**creds) as api:\n",
    "    control_connections = DeviceControlConnections.get(api, **deviceId)\n",
    "    print(control_connections)"
   ]
  },
  {
   "cell_type": "code",
   "execution_count": null,
   "id": "c09918fe",
   "metadata": {},
   "outputs": [],
   "source": [
    "from cisco_sdwan.base import models_vmanage\n",
    "\n",
    "dir(models_vmanage)"
   ]
  },
  {
   "cell_type": "code",
   "execution_count": null,
   "id": "74fcfa05",
   "metadata": {},
   "outputs": [],
   "source": [
    "dir(models_vmanage.DeviceControlConnections)"
   ]
  },
  {
   "cell_type": "code",
   "execution_count": null,
   "id": "699c4c18",
   "metadata": {},
   "outputs": [],
   "source": [
    "help(models_vmanage.DeviceControlConnections.field_info)\n"
   ]
  },
  {
   "cell_type": "code",
   "execution_count": null,
   "id": "a7fd86cf",
   "metadata": {},
   "outputs": [],
   "source": [
    "from cisco_sdwan.base.rest_api import Rest\n",
    "from cisco_sdwan.base.models_vmanage import DeviceControlConnections\n",
    "\n",
    "with Rest(**creds) as api:\n",
    "    control_connections = DeviceControlConnections.get(api, **deviceId)\n",
    "    print(control_connections.field_names)"
   ]
  },
  {
   "cell_type": "code",
   "execution_count": null,
   "id": "95b0b43e",
   "metadata": {},
   "outputs": [],
   "source": [
    "print(control_connections.field_info('site_id'))"
   ]
  },
  {
   "cell_type": "code",
   "execution_count": null,
   "id": "85b7ce08",
   "metadata": {},
   "outputs": [],
   "source": [
    "from cisco_sdwan.base.rest_api import Rest\n",
    "from cisco_sdwan.base.models_vmanage import DeviceControlConnections\n",
    "\n",
    "with Rest(**creds) as api:\n",
    "    control_connections = DeviceControlConnections.get(api, **deviceId)\n",
    "\n",
    "    header = control_connections.field_info('system_ip', 'local_color', 'remote_color', 'state', 'uptime_date')\n",
    "    print(f\"{header[0]:14} {header[1]:12} {header[2]:12} {header[3]:5} {header[4]}\")\n",
    "    for row in control_connections.field_value_iter('system_ip', 'local_color', 'remote_color', 'state', 'uptime_date'):\n",
    "        print(f\"{row.system_ip:14} {row.local_color:12} {row.remote_color:12} {row.state:5} {row.uptime_date}\")"
   ]
  },
  {
   "cell_type": "code",
   "execution_count": null,
   "id": "58635659",
   "metadata": {},
   "outputs": [],
   "source": [
    "from datetime import datetime, timezone\n",
    "from cisco_sdwan.base.rest_api import Rest\n",
    "from cisco_sdwan.base.models_vmanage import DeviceControlConnections\n",
    "\n",
    "def datetime_format(timestamp):\n",
    "    if timestamp is None:\n",
    "        return \"\"\n",
    "\n",
    "    dt = datetime.fromtimestamp(float(timestamp) / 1000, tz=timezone.utc)\n",
    "    return f\"{dt:%Y-%m-%d %H:%M:%S %Z}\"\n",
    "\n",
    "with Rest(**creds) as api:\n",
    "    control_connections = DeviceControlConnections.get(api, **deviceId)\n",
    "\n",
    "    header = control_connections.field_info('system_ip', 'local_color', 'remote_color', 'state', 'uptime_date')\n",
    "    print(f\"{header[0]:14} {header[1]:12} {header[2]:12} {header[3]:5} {header[4]}\")\n",
    "    for row in control_connections.field_value_iter('system_ip', 'local_color', 'remote_color', 'state', 'uptime_date', uptime_date=datetime_format):\n",
    "        print(f\"{row.system_ip:14} {row.local_color:12} {row.remote_color:12} {row.state:5} {row.uptime_date}\")"
   ]
  },
  {
   "cell_type": "code",
   "execution_count": null,
   "id": "dab8732a",
   "metadata": {},
   "outputs": [],
   "source": [
    "import logging\n",
    "from cisco_sdwan.base.rest_api import Rest\n",
    "from cisco_sdwan.tasks.implementation import TaskBackup, BackupArgs\n",
    "\n",
    "# Setup logging to visualize progress\n",
    "logging.basicConfig(level=logging.INFO, format=\"[%(levelname)s] %(message)s\")\n",
    "\n",
    "# Equivalent to 'sdwan backup all --no-rollover --save-running'\n",
    "task_args = BackupArgs(\n",
    "    save_running = True,\n",
    "    no_rollover = True,\n",
    "    workdir = 'backup_test',\n",
    "    tags = ['all']\n",
    ")\n",
    "\n",
    "with Rest(**creds) as api:\n",
    "    task = TaskBackup()\n",
    "    task_output = task.runner(task_args, api)\n",
    "\n",
    "    if task_output:\n",
    "        print('\\n\\n'.join(str(entry) for entry in task_output))\n",
    "\n",
    "    task.log_info(f'Task completed {task.outcome(\"successfully\", \"with caveats: {tally}\")}')"
   ]
  },
  {
   "cell_type": "code",
   "execution_count": null,
   "id": "656cb3e8",
   "metadata": {},
   "outputs": [],
   "source": [
    "import logging\n",
    "from cisco_sdwan.base.rest_api import Rest\n",
    "from cisco_sdwan.tasks.implementation import TaskRestore, RestoreArgs\n",
    "\n",
    "# Setup logging to visualize progress\n",
    "logging.basicConfig(level=logging.INFO, format=\"[%(levelname)s] %(message)s\")\n",
    "\n",
    "# Equivalent to 'sdwan restore all --workdir backup_test'\n",
    "task_args = RestoreArgs(\n",
    "    workdir = 'backup_test',\n",
    "    tags = 'all'\n",
    ")\n",
    "\n",
    "with Rest(**creds) as api:\n",
    "    task = TaskRestore()\n",
    "    task_output = task.runner(task_args, api)\n",
    "\n",
    "    if task_output:\n",
    "        print('\\n\\n'.join(str(entry) for entry in task_output))\n",
    "\n",
    "    task.log_info(f'Task completed {task.outcome(\"successfully\", \"with caveats: {tally}\")}')"
   ]
  }
 ],
 "metadata": {
  "kernelspec": {
   "display_name": "Python 3 (ipykernel)",
   "language": "python",
   "name": "python3"
  },
  "language_info": {
   "codemirror_mode": {
    "name": "ipython",
    "version": 3
   },
   "file_extension": ".py",
   "mimetype": "text/x-python",
   "name": "python",
   "nbconvert_exporter": "python",
   "pygments_lexer": "ipython3",
   "version": "3.9.5"
  }
 },
 "nbformat": 4,
 "nbformat_minor": 5
}
